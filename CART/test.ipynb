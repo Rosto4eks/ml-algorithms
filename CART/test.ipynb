{
 "cells": [
  {
   "cell_type": "code",
   "execution_count": 7,
   "metadata": {},
   "outputs": [],
   "source": [
    "from model import Cart\n",
    "import numpy as np\n",
    "from matplotlib import pyplot as plt\n",
    "\n",
    "X = np.array(\n",
    "    [[np.random.normal(-1, 0.6), np.random.normal(1, 0.6)] for _ in range(500)] +\n",
    "    [[np.random.normal(2, 0.6), np.random.normal(4, 2.2)] for _ in range(500)] +\n",
    "    [[np.random.normal(5, 0.4), np.random.normal(4, 1.2)] for _ in range(500)] +\n",
    "    [[np.random.normal(6, 0.2), np.random.normal(4, 0.2)] for _ in range(400)] +\n",
    "    [[np.random.normal(0, 0.5), np.random.normal(6, 0.2)] for _ in range(300)] +\n",
    "    [[np.random.normal(3.6, 0.2), np.random.normal(2, 0.2)] for _ in range(200)]\n",
    ")\n",
    "\n",
    "y = np.array(\n",
    "    [0 for _ in range(500)] +\n",
    "    [1 for _ in range(500)] +\n",
    "    [0 for _ in range(500)] +\n",
    "    [2 for _ in range(400)] +\n",
    "    [3 for _ in range(300)] +\n",
    "    [4 for _ in range(200)]\n",
    ")"
   ]
  },
  {
   "cell_type": "code",
   "execution_count": 8,
   "metadata": {},
   "outputs": [],
   "source": [
    "def plot(model, axs):\n",
    "    plt.axes(axs)\n",
    "    xlim = [np.min(X[:, 0]) - 1, np.max(X[:, 0]) + 1]\n",
    "    ylim = [np.min(X[:, 1]) - 1, np.max(X[:, 1]) + 1]\n",
    "    xx, yy = np.meshgrid(np.linspace(*xlim, num=400), np.linspace(*ylim, num=400))\n",
    "\n",
    "    arr = np.c_[xx.ravel(), yy.ravel()]\n",
    "    ys = model.predict(arr)\n",
    "\n",
    "    z_model = ys.reshape(xx.shape)\n",
    "\n",
    "    plt.scatter(X[:, 0], X[:, 1], c=y, cmap=\"gist_rainbow\", s=50)\n",
    "    plt.contourf(xx, yy, z_model.reshape(xx.shape), alpha=0.4, cmap='gist_rainbow', zorder=1)"
   ]
  },
  {
   "cell_type": "code",
   "execution_count": null,
   "metadata": {},
   "outputs": [],
   "source": [
    "fig, axs = plt.subplots(nrows=1, ncols=2, figsize=(16, 10))\n",
    "model = Cart(pruning=False)\n",
    "model.fit(X, y)\n",
    "plot(model, axs[0])\n",
    "model = Cart()\n",
    "model.fit(X, y)\n",
    "plot(model, axs[1])"
   ]
  },
  {
   "cell_type": "code",
   "execution_count": 10,
   "metadata": {},
   "outputs": [],
   "source": [
    "X = np.random.uniform(0, 25, 500)\n",
    "y = np.sin(X) - np.random.normal(0, 0.3, 500)\n",
    "X = X[:, np.newaxis]"
   ]
  },
  {
   "cell_type": "code",
   "execution_count": 11,
   "metadata": {},
   "outputs": [],
   "source": [
    "def plot(model, axs):\n",
    "    plt.axes(axs)\n",
    "\n",
    "    ys = model.predict(X)\n",
    "    \n",
    "    indices = np.argsort(X[:, 0])\n",
    "    arr = np.squeeze(X[indices])\n",
    "    ys = np.squeeze(ys[indices])\n",
    "    plt.plot(X, y, 'o', alpha=0.75)\n",
    "    plt.plot(arr, ys, linewidth=4, alpha=0.65, color=\"black\")"
   ]
  },
  {
   "cell_type": "code",
   "execution_count": null,
   "metadata": {},
   "outputs": [],
   "source": [
    "fig, axs = plt.subplots(nrows=1, ncols=2, figsize=(18, 8))\n",
    "model = Cart(type=\"r\", pruning=False)\n",
    "model.fit(X, y)\n",
    "plot(model, axs[0])\n",
    "model = Cart(type=\"r\")\n",
    "model.fit(X, y)\n",
    "plot(model, axs[1])"
   ]
  }
 ],
 "metadata": {
  "kernelspec": {
   "display_name": "Python 3",
   "language": "python",
   "name": "python3"
  },
  "language_info": {
   "codemirror_mode": {
    "name": "ipython",
    "version": 3
   },
   "file_extension": ".py",
   "mimetype": "text/x-python",
   "name": "python",
   "nbconvert_exporter": "python",
   "pygments_lexer": "ipython3",
   "version": "3.10.0"
  }
 },
 "nbformat": 4,
 "nbformat_minor": 2
}
