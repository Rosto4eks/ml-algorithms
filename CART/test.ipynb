{
 "cells": [
  {
   "cell_type": "code",
   "execution_count": 184,
   "metadata": {},
   "outputs": [],
   "source": [
    "from model import Cart\n",
    "import numpy as np\n",
    "from matplotlib import pyplot as plt\n",
    "\n",
    "X = np.array(\n",
    "    [[np.random.normal(1, 0.6), np.random.normal(1, 0.6)] for _ in range(300)] +\n",
    "    [[np.random.normal(2, 0.6), np.random.normal(4, 2.2)] for _ in range(300)] +\n",
    "    [[np.random.normal(5, 0.4), np.random.normal(4, 1.2)] for _ in range(300)] +\n",
    "    [[np.random.normal(6, 0.2), np.random.normal(4, 0.2)] for _ in range(100)] +\n",
    "    [[np.random.normal(0, 0.5), np.random.normal(6, 0.2)] for _ in range(100)] +\n",
    "    [[np.random.normal(3.6, 0.2), np.random.normal(2, 0.2)] for _ in range(100)]\n",
    ")\n",
    "\n",
    "y = np.array(\n",
    "    [0 for _ in range(300)] +\n",
    "    [1 for _ in range(300)] +\n",
    "    [0 for _ in range(300)] +\n",
    "    [2 for _ in range(100)] +\n",
    "    [3 for _ in range(100)] +\n",
    "    [4 for _ in range(100)]\n",
    ")"
   ]
  },
  {
   "cell_type": "code",
   "execution_count": 185,
   "metadata": {},
   "outputs": [],
   "source": [
    "model = Cart(max_height=24, min_allowed_Gini=0.1, node_min_size=20)\n",
    "model.fit(X, y)"
   ]
  },
  {
   "cell_type": "code",
   "execution_count": null,
   "metadata": {},
   "outputs": [],
   "source": [
    "fig, axs = plt.subplots(nrows=1, ncols=1, figsize=(10, 10))\n",
    "plt.axes(axs)\n",
    "xlim = [np.min(X[:, 0]) - 1, np.max(X[:, 0]) + 1]\n",
    "ylim = [np.min(X[:, 1]) - 1, np.max(X[:, 1]) + 1]\n",
    "xx, yy = np.meshgrid(np.linspace(*xlim, num=400), np.linspace(*ylim, num=400))\n",
    "arr = np.c_[xx.ravel(), yy.ravel()]\n",
    "ys = np.empty(shape=(arr.shape[0]))\n",
    "for i in range(len(arr)):\n",
    "    ys[i] = model.predict(arr[i])\n",
    "\n",
    "z_model = ys.reshape(xx.shape)\n",
    "plt.scatter(X[:, 0], X[:, 1], c=y, cmap=\"gist_rainbow\", s=50)\n",
    "plt.contourf(xx, yy, z_model.reshape(xx.shape), alpha=0.4, cmap='gist_rainbow', zorder=1)"
   ]
  },
  {
   "cell_type": "code",
   "execution_count": 187,
   "metadata": {},
   "outputs": [],
   "source": [
    "X = np.random.uniform(0, 40, 500)\n",
    "y = np.sin(X) - np.random.normal(0, 0.3, 500)\n",
    "X = X[:, np.newaxis]"
   ]
  },
  {
   "cell_type": "code",
   "execution_count": 188,
   "metadata": {},
   "outputs": [],
   "source": [
    "model = Cart(type=\"r\",max_height=15, min_allowed_Gini=0, node_min_size=20)\n",
    "model.fit(X, y)"
   ]
  },
  {
   "cell_type": "code",
   "execution_count": null,
   "metadata": {},
   "outputs": [],
   "source": [
    "fig, axs = plt.subplots(nrows=1, ncols=1, figsize=(16, 6))\n",
    "plt.axes(axs)\n",
    "ys = np.empty(shape=(X.shape[0]))\n",
    "for i in range(len(ys)):\n",
    "    ys[i] = model.predict(X[i])\n",
    "indices = np.argsort(X[:, 0])\n",
    "arr = np.squeeze(X[indices])\n",
    "ys = np.squeeze(ys[indices])\n",
    "plt.plot(X, y, 'o', alpha=0.75)\n",
    "plt.plot(arr, ys, linewidth=4, alpha=0.65, color=\"black\")"
   ]
  }
 ],
 "metadata": {
  "kernelspec": {
   "display_name": "Python 3",
   "language": "python",
   "name": "python3"
  },
  "language_info": {
   "codemirror_mode": {
    "name": "ipython",
    "version": 3
   },
   "file_extension": ".py",
   "mimetype": "text/x-python",
   "name": "python",
   "nbconvert_exporter": "python",
   "pygments_lexer": "ipython3",
   "version": "3.10.0"
  }
 },
 "nbformat": 4,
 "nbformat_minor": 2
}
