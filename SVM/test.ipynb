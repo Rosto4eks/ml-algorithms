{
 "cells": [
  {
   "cell_type": "code",
   "execution_count": null,
   "metadata": {},
   "outputs": [],
   "source": [
    "import numpy as np\n",
    "from model import SVM\n",
    "import matplotlib.pyplot as plt\n",
    "from sklearn.datasets import make_blobs\n",
    "\n",
    "def plot(X, y, model, axes, name):\n",
    "  plt.axes(axes)\n",
    "  xlim = [np.min(X[:, 0]) - 1, np.max(X[:, 0]) + 1]\n",
    "  ylim = [np.min(X[:, 1]) - 1, np.max(X[:, 1]) + 1]\n",
    "  xx, yy = np.meshgrid(np.linspace(*xlim, num=400), np.linspace(*ylim, num=400))\n",
    "  \n",
    "  model.fit(X, y)\n",
    "  z_model = model.decision_function(np.c_[xx.ravel(), yy.ravel()]).reshape(xx.shape)\n",
    "  plt.scatter(X[:, 0], X[:, 1], c=y, s=50, cmap='bwr')\n",
    "  plt.contour(xx, yy, z_model, colors='k', levels=[-1, 0, 1], alpha=0.75, linestyles=['--', '-', '--'])\n",
    "  plt.contourf(xx, yy, np.sign(z_model.reshape(xx.shape)), alpha=0.3, levels=2, cmap='coolwarm', zorder=1)\n",
    "  plt.title(name)\n",
    "\n",
    "\n",
    "X, y = make_blobs(n_samples=52, centers=2, random_state=0, cluster_std=1.6)\n",
    "\n",
    "fig, axs = plt.subplots(nrows=2, ncols=2, figsize=(18, 18))\n",
    "plot(X, y, SVM(kernel='linear'), axs[0][0], \"linear\")\n",
    "\n",
    "plot(X, y, SVM(kernel='rbf'), axs[0][1], \"rbf\")\n",
    "\n",
    "plot(X, y, SVM(kernel='poly'), axs[1][0], \"poly (3)\")\n",
    "\n",
    "plot(X, y, SVM(kernel='sigmoid'), axs[1][1], \"sigmoid\")"
   ]
  }
 ],
 "metadata": {
  "kernelspec": {
   "display_name": "Python 3",
   "language": "python",
   "name": "python3"
  },
  "language_info": {
   "codemirror_mode": {
    "name": "ipython",
    "version": 3
   },
   "file_extension": ".py",
   "mimetype": "text/x-python",
   "name": "python",
   "nbconvert_exporter": "python",
   "pygments_lexer": "ipython3",
   "version": "3.10.0"
  }
 },
 "nbformat": 4,
 "nbformat_minor": 2
}
